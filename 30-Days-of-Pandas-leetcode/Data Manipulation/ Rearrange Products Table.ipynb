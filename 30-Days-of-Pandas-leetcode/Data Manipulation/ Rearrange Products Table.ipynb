{
 "cells": [
  {
   "cell_type": "markdown",
   "id": "478bb3cd",
   "metadata": {},
   "source": [
    "# RESHAPE WIDE TO LONG IN PANDAS PYTHON WITH MELT() FUNCTION"
   ]
  },
  {
   "cell_type": "raw",
   "id": "c322ac5e",
   "metadata": {},
   "source": [
    "Reshaping a data from wide to long in pandas python is done with melt() function. melt function in pandas is one of the efficient function to transform the data from wide to long format. melt() Function in python pandas depicted with an example."
   ]
  },
  {
   "cell_type": "code",
   "execution_count": null,
   "id": "8d4a4e83",
   "metadata": {},
   "outputs": [],
   "source": [
    "+-------------+---------+\n",
    "| Column Name | Type    |\n",
    "+-------------+---------+\n",
    "| product_id  | int     |\n",
    "| store1      | int     |\n",
    "| store2      | int     |\n",
    "| store3      | int     |\n",
    "+-------------+---------+\n",
    "product_id is the primary key (column with unique values) for this table.\n",
    "Each row in this table indicates the product's price in 3 different stores: store1, store2, and store3.\n",
    "If the product is not available in a store, the price will be null in that store's column.\n",
    "\n",
    "Write a solution to rearrange the Products table so that each row has (product_id, store, price).\n",
    "If a product is not available in a store, do not include a row with that product_id and store combination \n",
    "in the result table.\n",
    "\n",
    "Return the result table in any order.\n",
    "\n",
    "The result format is in the following example.\n",
    "\n",
    " \n",
    "\n",
    "Example 1:\n",
    "\n",
    "Input: \n",
    "Products table:\n",
    "+------------+--------+--------+--------+\n",
    "| product_id | store1 | store2 | store3 |\n",
    "+------------+--------+--------+--------+\n",
    "| 0          | 95     | 100    | 105    |\n",
    "| 1          | 70     | null   | 80     |\n",
    "+------------+--------+--------+--------+\n",
    "Output: \n",
    "+------------+--------+-------+\n",
    "| product_id | store  | price |\n",
    "+------------+--------+-------+\n",
    "| 0          | store1 | 95    |\n",
    "| 0          | store2 | 100   |\n",
    "| 0          | store3 | 105   |\n",
    "| 1          | store1 | 70    |\n",
    "| 1          | store3 | 80    |\n",
    "+------------+--------+-------+\n",
    "Explanation: \n",
    "Product 0 is available in all three stores with prices 95, 100, and 105 respectively.\n",
    "Product 1 is available in store1 with price 70 and store3 with price 80. \n",
    "The product is not available in store2."
   ]
  },
  {
   "cell_type": "code",
   "execution_count": 23,
   "id": "620ce979",
   "metadata": {},
   "outputs": [
    {
     "name": "stdout",
     "output_type": "stream",
     "text": [
      "   product_id  store1  store2  store3\n",
      "0           0      95   100.0     105\n",
      "1           1      70     NaN      80\n"
     ]
    }
   ],
   "source": [
    "import pandas as pd\n",
    "\n",
    "# Creating the input DataFrame\n",
    "data = {\n",
    "    'product_id': [0, 1],\n",
    "    'store1': [95, 70],\n",
    "    'store2': [100, None],\n",
    "    'store3': [105, 80]\n",
    "}\n",
    "\n",
    "product = pd.DataFrame(data)\n",
    "print(product)"
   ]
  },
  {
   "cell_type": "code",
   "execution_count": 21,
   "id": "3e882b6d",
   "metadata": {},
   "outputs": [],
   "source": [
    "def rearrange_products_table(products: pd.DataFrame) -> pd.DataFrame:\n",
    "    # Reshaping the DataFrame\n",
    "    product_df = pd.melt(products, id_vars='product_id', var_name='store', value_name='price').dropna()\n",
    "    # Drop rows with missing prices (store2 in this case)\n",
    "    product_df.sort_values(['product_id'],inplace=True)\n",
    "    return product_df "
   ]
  },
  {
   "cell_type": "code",
   "execution_count": 22,
   "id": "8c08d627",
   "metadata": {},
   "outputs": [
    {
     "data": {
      "text/html": [
       "<div>\n",
       "<style scoped>\n",
       "    .dataframe tbody tr th:only-of-type {\n",
       "        vertical-align: middle;\n",
       "    }\n",
       "\n",
       "    .dataframe tbody tr th {\n",
       "        vertical-align: top;\n",
       "    }\n",
       "\n",
       "    .dataframe thead th {\n",
       "        text-align: right;\n",
       "    }\n",
       "</style>\n",
       "<table border=\"1\" class=\"dataframe\">\n",
       "  <thead>\n",
       "    <tr style=\"text-align: right;\">\n",
       "      <th></th>\n",
       "      <th>product_id</th>\n",
       "      <th>store</th>\n",
       "      <th>price</th>\n",
       "    </tr>\n",
       "  </thead>\n",
       "  <tbody>\n",
       "    <tr>\n",
       "      <th>0</th>\n",
       "      <td>0</td>\n",
       "      <td>store1</td>\n",
       "      <td>95.0</td>\n",
       "    </tr>\n",
       "    <tr>\n",
       "      <th>2</th>\n",
       "      <td>0</td>\n",
       "      <td>store2</td>\n",
       "      <td>100.0</td>\n",
       "    </tr>\n",
       "    <tr>\n",
       "      <th>4</th>\n",
       "      <td>0</td>\n",
       "      <td>store3</td>\n",
       "      <td>105.0</td>\n",
       "    </tr>\n",
       "    <tr>\n",
       "      <th>1</th>\n",
       "      <td>1</td>\n",
       "      <td>store1</td>\n",
       "      <td>70.0</td>\n",
       "    </tr>\n",
       "    <tr>\n",
       "      <th>5</th>\n",
       "      <td>1</td>\n",
       "      <td>store3</td>\n",
       "      <td>80.0</td>\n",
       "    </tr>\n",
       "  </tbody>\n",
       "</table>\n",
       "</div>"
      ],
      "text/plain": [
       "   product_id   store  price\n",
       "0           0  store1   95.0\n",
       "2           0  store2  100.0\n",
       "4           0  store3  105.0\n",
       "1           1  store1   70.0\n",
       "5           1  store3   80.0"
      ]
     },
     "execution_count": 22,
     "metadata": {},
     "output_type": "execute_result"
    }
   ],
   "source": [
    "rearrange_products_table(product)\n"
   ]
  },
  {
   "cell_type": "markdown",
   "id": "1a794e94",
   "metadata": {},
   "source": [
    "data frame “product” is passed to melt() function\n",
    "id_vars is the variable which need to be left unaltered which is “product_id”\n",
    "var_name are the column names so we named it as ‘store’\n",
    "value_name are its values so we named it as ‘price’"
   ]
  },
  {
   "cell_type": "code",
   "execution_count": null,
   "id": "f6176000",
   "metadata": {},
   "outputs": [],
   "source": []
  }
 ],
 "metadata": {
  "kernelspec": {
   "display_name": "Python 3 (ipykernel)",
   "language": "python",
   "name": "python3"
  },
  "language_info": {
   "codemirror_mode": {
    "name": "ipython",
    "version": 3
   },
   "file_extension": ".py",
   "mimetype": "text/x-python",
   "name": "python",
   "nbconvert_exporter": "python",
   "pygments_lexer": "ipython3",
   "version": "3.9.12"
  }
 },
 "nbformat": 4,
 "nbformat_minor": 5
}
