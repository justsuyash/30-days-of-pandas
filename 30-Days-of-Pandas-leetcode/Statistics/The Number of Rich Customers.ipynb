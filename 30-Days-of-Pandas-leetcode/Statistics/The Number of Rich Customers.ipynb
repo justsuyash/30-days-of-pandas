{
 "cells": [
  {
   "cell_type": "markdown",
   "id": "aadebc1a",
   "metadata": {},
   "source": [
    "# The Number of Rich Customers\n"
   ]
  },
  {
   "cell_type": "code",
   "execution_count": null,
   "id": "86e4af59",
   "metadata": {},
   "outputs": [],
   "source": [
    "Table: Store\n",
    "\n",
    "+-------------+------+\n",
    "| Column Name | Type |\n",
    "+-------------+------+\n",
    "| bill_id     | int  |\n",
    "| customer_id | int  |\n",
    "| amount      | int  |\n",
    "+-------------+------+\n",
    "bill_id is the primary key (column with unique values) for this table.\n",
    "Each row contains information about the amount of one bill and the customer associated with it.\n",
    " \n",
    "\n",
    "Write a solution to report the number of customers who had at least one bill with an amount strictly greater than 500.\n",
    "\n",
    "The result format is in the following example.\n",
    "\n",
    " \n",
    "\n",
    "Example 1:\n",
    "\n",
    "Input: \n",
    "Store table:\n",
    "+---------+-------------+--------+\n",
    "| bill_id | customer_id | amount |\n",
    "+---------+-------------+--------+\n",
    "| 6       | 1           | 549    |\n",
    "| 8       | 1           | 834    |\n",
    "| 4       | 2           | 394    |\n",
    "| 11      | 3           | 657    |\n",
    "| 13      | 3           | 257    |\n",
    "+---------+-------------+--------+\n",
    "Output: \n",
    "+------------+\n",
    "| rich_count |\n",
    "+------------+\n",
    "| 2          |\n",
    "+------------+\n",
    "Explanation: \n",
    "Customer 1 has two bills with amounts strictly greater than 500.\n",
    "Customer 2 does not have any bills with an amount strictly greater than 500.\n",
    "Customer 3 has one bill with an amount strictly greater than 500."
   ]
  },
  {
   "cell_type": "code",
   "execution_count": 1,
   "id": "1158a954",
   "metadata": {},
   "outputs": [],
   "source": [
    "import pandas as pd\n",
    "\n",
    "# Sample data\n",
    "data = {\n",
    "    'bill_id': [6, 8, 4, 11, 13],\n",
    "    'customer_id': [1, 1, 2, 3, 3],\n",
    "    'amount': [549, 834, 394, 657, 257]\n",
    "}\n",
    "\n",
    "# Create a DataFrame\n",
    "df = pd.DataFrame(data)"
   ]
  },
  {
   "cell_type": "code",
   "execution_count": 2,
   "id": "efd5645c",
   "metadata": {},
   "outputs": [
    {
     "data": {
      "text/html": [
       "<div>\n",
       "<style scoped>\n",
       "    .dataframe tbody tr th:only-of-type {\n",
       "        vertical-align: middle;\n",
       "    }\n",
       "\n",
       "    .dataframe tbody tr th {\n",
       "        vertical-align: top;\n",
       "    }\n",
       "\n",
       "    .dataframe thead th {\n",
       "        text-align: right;\n",
       "    }\n",
       "</style>\n",
       "<table border=\"1\" class=\"dataframe\">\n",
       "  <thead>\n",
       "    <tr style=\"text-align: right;\">\n",
       "      <th></th>\n",
       "      <th>bill_id</th>\n",
       "      <th>customer_id</th>\n",
       "      <th>amount</th>\n",
       "    </tr>\n",
       "  </thead>\n",
       "  <tbody>\n",
       "    <tr>\n",
       "      <th>0</th>\n",
       "      <td>6</td>\n",
       "      <td>1</td>\n",
       "      <td>549</td>\n",
       "    </tr>\n",
       "    <tr>\n",
       "      <th>1</th>\n",
       "      <td>8</td>\n",
       "      <td>1</td>\n",
       "      <td>834</td>\n",
       "    </tr>\n",
       "    <tr>\n",
       "      <th>2</th>\n",
       "      <td>4</td>\n",
       "      <td>2</td>\n",
       "      <td>394</td>\n",
       "    </tr>\n",
       "    <tr>\n",
       "      <th>3</th>\n",
       "      <td>11</td>\n",
       "      <td>3</td>\n",
       "      <td>657</td>\n",
       "    </tr>\n",
       "    <tr>\n",
       "      <th>4</th>\n",
       "      <td>13</td>\n",
       "      <td>3</td>\n",
       "      <td>257</td>\n",
       "    </tr>\n",
       "  </tbody>\n",
       "</table>\n",
       "</div>"
      ],
      "text/plain": [
       "   bill_id  customer_id  amount\n",
       "0        6            1     549\n",
       "1        8            1     834\n",
       "2        4            2     394\n",
       "3       11            3     657\n",
       "4       13            3     257"
      ]
     },
     "execution_count": 2,
     "metadata": {},
     "output_type": "execute_result"
    }
   ],
   "source": [
    "df"
   ]
  },
  {
   "cell_type": "code",
   "execution_count": 30,
   "id": "131aaec4",
   "metadata": {},
   "outputs": [],
   "source": [
    "def count_rich_customers(store: pd.DataFrame) -> pd.DataFrame:\n",
    "    rich_customer=store.query(\"amount>500\")\n",
    "    unique_rich_customers = rich_customer['customer_id'].unique()\n",
    "    result_df = pd.DataFrame({'rich_count': [len(unique_rich_customers)]})\n",
    "    return result_df"
   ]
  },
  {
   "cell_type": "code",
   "execution_count": 31,
   "id": "603216e1",
   "metadata": {},
   "outputs": [
    {
     "data": {
      "text/html": [
       "<div>\n",
       "<style scoped>\n",
       "    .dataframe tbody tr th:only-of-type {\n",
       "        vertical-align: middle;\n",
       "    }\n",
       "\n",
       "    .dataframe tbody tr th {\n",
       "        vertical-align: top;\n",
       "    }\n",
       "\n",
       "    .dataframe thead th {\n",
       "        text-align: right;\n",
       "    }\n",
       "</style>\n",
       "<table border=\"1\" class=\"dataframe\">\n",
       "  <thead>\n",
       "    <tr style=\"text-align: right;\">\n",
       "      <th></th>\n",
       "      <th>rich_count</th>\n",
       "    </tr>\n",
       "  </thead>\n",
       "  <tbody>\n",
       "    <tr>\n",
       "      <th>0</th>\n",
       "      <td>2</td>\n",
       "    </tr>\n",
       "  </tbody>\n",
       "</table>\n",
       "</div>"
      ],
      "text/plain": [
       "   rich_count\n",
       "0           2"
      ]
     },
     "execution_count": 31,
     "metadata": {},
     "output_type": "execute_result"
    }
   ],
   "source": [
    "count_rich_customers(df)"
   ]
  },
  {
   "cell_type": "code",
   "execution_count": null,
   "id": "b461a1bd",
   "metadata": {},
   "outputs": [],
   "source": []
  },
  {
   "cell_type": "code",
   "execution_count": null,
   "id": "10a4d627",
   "metadata": {},
   "outputs": [],
   "source": []
  }
 ],
 "metadata": {
  "kernelspec": {
   "display_name": "Python 3 (ipykernel)",
   "language": "python",
   "name": "python3"
  },
  "language_info": {
   "codemirror_mode": {
    "name": "ipython",
    "version": 3
   },
   "file_extension": ".py",
   "mimetype": "text/x-python",
   "name": "python",
   "nbconvert_exporter": "python",
   "pygments_lexer": "ipython3",
   "version": "3.9.12"
  }
 },
 "nbformat": 4,
 "nbformat_minor": 5
}
