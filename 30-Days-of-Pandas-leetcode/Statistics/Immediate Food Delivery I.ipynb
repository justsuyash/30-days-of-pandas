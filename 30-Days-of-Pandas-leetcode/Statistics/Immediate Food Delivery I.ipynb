{
 "cells": [
  {
   "cell_type": "markdown",
   "id": "032087ed",
   "metadata": {},
   "source": [
    "# Immediate Food Delivery I\n"
   ]
  },
  {
   "cell_type": "code",
   "execution_count": null,
   "id": "4af02381",
   "metadata": {},
   "outputs": [],
   "source": [
    "Table: Delivery\n",
    "\n",
    "+-----------------------------+---------+\n",
    "| Column Name                 | Type    |\n",
    "+-----------------------------+---------+\n",
    "| delivery_id                 | int     |\n",
    "| customer_id                 | int     |\n",
    "| order_date                  | date    |\n",
    "| customer_pref_delivery_date | date    |\n",
    "+-----------------------------+---------+\n",
    "delivery_id is the primary key (column with unique values) of this table.\n",
    "The table holds information about food delivery to customers that make orders at some date and specify \n",
    "a preferred delivery date (on the same order date or after it).\n",
    " \n",
    "\n",
    "If the customer's preferred delivery date is the same as the order date, then the order is called immediate; \n",
    "otherwise, it is called scheduled.\n",
    "\n",
    "Write a solution to find the percentage of immediate orders in the table, rounded to 2 decimal places.\n",
    "\n",
    "The result format is in the following example.\n",
    "\n",
    " \n",
    "\n",
    "Example 1:\n",
    "\n",
    "Input: \n",
    "Delivery table:\n",
    "+-------------+-------------+------------+-----------------------------+\n",
    "| delivery_id | customer_id | order_date | customer_pref_delivery_date |\n",
    "+-------------+-------------+------------+-----------------------------+\n",
    "| 1           | 1           | 2019-08-01 | 2019-08-02                  |\n",
    "| 2           | 5           | 2019-08-02 | 2019-08-02                  |\n",
    "| 3           | 1           | 2019-08-11 | 2019-08-11                  |\n",
    "| 4           | 3           | 2019-08-24 | 2019-08-26                  |\n",
    "| 5           | 4           | 2019-08-21 | 2019-08-22                  |\n",
    "| 6           | 2           | 2019-08-11 | 2019-08-13                  |\n",
    "+-------------+-------------+------------+-----------------------------+\n",
    "Output: \n",
    "+----------------------+\n",
    "| immediate_percentage |\n",
    "+----------------------+\n",
    "| 33.33                |\n",
    "+----------------------+\n",
    "Explanation: The orders with delivery id 2 and 3 are immediate while the others are scheduled."
   ]
  },
  {
   "cell_type": "code",
   "execution_count": 2,
   "id": "71a7d8db",
   "metadata": {},
   "outputs": [],
   "source": [
    "import pandas as pd\n",
    "\n",
    "# Create a DataFrame with the provided input data\n",
    "data = pd.DataFrame({\n",
    "    'delivery_id': [1, 2, 3, 4, 5, 6],\n",
    "    'customer_id': [1, 5, 1, 3, 4, 2],\n",
    "    'order_date': ['2019-08-01', '2019-08-02', '2019-08-11', '2019-08-24', '2019-08-21', '2019-08-11'],\n",
    "    'customer_pref_delivery_date': ['2019-08-02', '2019-08-02', '2019-08-11', '2019-08-26', '2019-08-22', '2019-08-13']\n",
    "})\n",
    "\n",
    "# Convert date columns to datetime objects\n",
    "data['order_date'] = pd.to_datetime(data['order_date'])\n",
    "data['customer_pref_delivery_date'] = pd.to_datetime(data['customer_pref_delivery_date'])\n",
    "\n"
   ]
  },
  {
   "cell_type": "code",
   "execution_count": 3,
   "id": "b177cfa8",
   "metadata": {},
   "outputs": [
    {
     "data": {
      "text/html": [
       "<div>\n",
       "<style scoped>\n",
       "    .dataframe tbody tr th:only-of-type {\n",
       "        vertical-align: middle;\n",
       "    }\n",
       "\n",
       "    .dataframe tbody tr th {\n",
       "        vertical-align: top;\n",
       "    }\n",
       "\n",
       "    .dataframe thead th {\n",
       "        text-align: right;\n",
       "    }\n",
       "</style>\n",
       "<table border=\"1\" class=\"dataframe\">\n",
       "  <thead>\n",
       "    <tr style=\"text-align: right;\">\n",
       "      <th></th>\n",
       "      <th>delivery_id</th>\n",
       "      <th>customer_id</th>\n",
       "      <th>order_date</th>\n",
       "      <th>customer_pref_delivery_date</th>\n",
       "    </tr>\n",
       "  </thead>\n",
       "  <tbody>\n",
       "    <tr>\n",
       "      <th>0</th>\n",
       "      <td>1</td>\n",
       "      <td>1</td>\n",
       "      <td>2019-08-01</td>\n",
       "      <td>2019-08-02</td>\n",
       "    </tr>\n",
       "    <tr>\n",
       "      <th>1</th>\n",
       "      <td>2</td>\n",
       "      <td>5</td>\n",
       "      <td>2019-08-02</td>\n",
       "      <td>2019-08-02</td>\n",
       "    </tr>\n",
       "    <tr>\n",
       "      <th>2</th>\n",
       "      <td>3</td>\n",
       "      <td>1</td>\n",
       "      <td>2019-08-11</td>\n",
       "      <td>2019-08-11</td>\n",
       "    </tr>\n",
       "    <tr>\n",
       "      <th>3</th>\n",
       "      <td>4</td>\n",
       "      <td>3</td>\n",
       "      <td>2019-08-24</td>\n",
       "      <td>2019-08-26</td>\n",
       "    </tr>\n",
       "    <tr>\n",
       "      <th>4</th>\n",
       "      <td>5</td>\n",
       "      <td>4</td>\n",
       "      <td>2019-08-21</td>\n",
       "      <td>2019-08-22</td>\n",
       "    </tr>\n",
       "    <tr>\n",
       "      <th>5</th>\n",
       "      <td>6</td>\n",
       "      <td>2</td>\n",
       "      <td>2019-08-11</td>\n",
       "      <td>2019-08-13</td>\n",
       "    </tr>\n",
       "  </tbody>\n",
       "</table>\n",
       "</div>"
      ],
      "text/plain": [
       "   delivery_id  customer_id order_date customer_pref_delivery_date\n",
       "0            1            1 2019-08-01                  2019-08-02\n",
       "1            2            5 2019-08-02                  2019-08-02\n",
       "2            3            1 2019-08-11                  2019-08-11\n",
       "3            4            3 2019-08-24                  2019-08-26\n",
       "4            5            4 2019-08-21                  2019-08-22\n",
       "5            6            2 2019-08-11                  2019-08-13"
      ]
     },
     "execution_count": 3,
     "metadata": {},
     "output_type": "execute_result"
    }
   ],
   "source": [
    "data"
   ]
  },
  {
   "cell_type": "code",
   "execution_count": 6,
   "id": "0073d053",
   "metadata": {},
   "outputs": [],
   "source": [
    "def food_delivery(delivery: pd.DataFrame) -> pd.DataFrame:\n",
    "    # Calculate the immediate delivery percentage\n",
    "    immediate_deliveries = delivery[delivery['order_date'] == delivery['customer_pref_delivery_date']]\n",
    "    total_deliveries = len(delivery)\n",
    "    immediate_percentage = (len(immediate_deliveries) / total_deliveries) * 100\n",
    "    # Create a DataFrame with the result\n",
    "    result_df = pd.DataFrame({'immediate_percentage': [round(immediate_percentage,2)]})\n",
    "    return result_df"
   ]
  },
  {
   "cell_type": "code",
   "execution_count": 7,
   "id": "d56f8d77",
   "metadata": {},
   "outputs": [
    {
     "data": {
      "text/html": [
       "<div>\n",
       "<style scoped>\n",
       "    .dataframe tbody tr th:only-of-type {\n",
       "        vertical-align: middle;\n",
       "    }\n",
       "\n",
       "    .dataframe tbody tr th {\n",
       "        vertical-align: top;\n",
       "    }\n",
       "\n",
       "    .dataframe thead th {\n",
       "        text-align: right;\n",
       "    }\n",
       "</style>\n",
       "<table border=\"1\" class=\"dataframe\">\n",
       "  <thead>\n",
       "    <tr style=\"text-align: right;\">\n",
       "      <th></th>\n",
       "      <th>immediate_percentage</th>\n",
       "    </tr>\n",
       "  </thead>\n",
       "  <tbody>\n",
       "    <tr>\n",
       "      <th>0</th>\n",
       "      <td>33.33</td>\n",
       "    </tr>\n",
       "  </tbody>\n",
       "</table>\n",
       "</div>"
      ],
      "text/plain": [
       "   immediate_percentage\n",
       "0                 33.33"
      ]
     },
     "execution_count": 7,
     "metadata": {},
     "output_type": "execute_result"
    }
   ],
   "source": [
    "food_delivery(data)"
   ]
  },
  {
   "cell_type": "code",
   "execution_count": null,
   "id": "35729037",
   "metadata": {},
   "outputs": [],
   "source": []
  }
 ],
 "metadata": {
  "kernelspec": {
   "display_name": "Python 3 (ipykernel)",
   "language": "python",
   "name": "python3"
  },
  "language_info": {
   "codemirror_mode": {
    "name": "ipython",
    "version": 3
   },
   "file_extension": ".py",
   "mimetype": "text/x-python",
   "name": "python",
   "nbconvert_exporter": "python",
   "pygments_lexer": "ipython3",
   "version": "3.9.12"
  }
 },
 "nbformat": 4,
 "nbformat_minor": 5
}
