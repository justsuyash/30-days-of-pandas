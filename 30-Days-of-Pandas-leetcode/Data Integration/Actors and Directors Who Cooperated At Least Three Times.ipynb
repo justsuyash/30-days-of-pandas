{
 "cells": [
  {
   "cell_type": "markdown",
   "id": "d08c7e04",
   "metadata": {},
   "source": [
    "# Actors and Directors Who Cooperated At Least Three Times\n"
   ]
  },
  {
   "cell_type": "code",
   "execution_count": null,
   "id": "f8478079",
   "metadata": {},
   "outputs": [],
   "source": [
    "Table: ActorDirector\n",
    "\n",
    "+-------------+---------+\n",
    "| Column Name | Type    |\n",
    "+-------------+---------+\n",
    "| actor_id    | int     |\n",
    "| director_id | int     |\n",
    "| timestamp   | int     |\n",
    "+-------------+---------+\n",
    "timestamp is the primary key (column with unique values) for this table.\n",
    " \n",
    "\n",
    "Write a solution to find all the pairs (actor_id, director_id) where the actor has cooperated \n",
    "with the director at least three times.\n",
    "\n",
    "Return the result table in any order.\n",
    "\n",
    "The result format is in the following example.\n",
    "\n",
    " \n",
    "\n",
    "Example 1:\n",
    "\n",
    "Input: \n",
    "ActorDirector table:\n",
    "+-------------+-------------+-------------+\n",
    "| actor_id    | director_id | timestamp   |\n",
    "+-------------+-------------+-------------+\n",
    "| 1           | 1           | 0           |\n",
    "| 1           | 1           | 1           |\n",
    "| 1           | 1           | 2           |\n",
    "| 1           | 2           | 3           |\n",
    "| 1           | 2           | 4           |\n",
    "| 2           | 1           | 5           |\n",
    "| 2           | 1           | 6           |\n",
    "+-------------+-------------+-------------+\n",
    "Output: \n",
    "+-------------+-------------+\n",
    "| actor_id    | director_id |\n",
    "+-------------+-------------+\n",
    "| 1           | 1           |\n",
    "+-------------+-------------+\n",
    "Explanation: The only pair is (1, 1) where they cooperated exactly 3 times."
   ]
  },
  {
   "cell_type": "code",
   "execution_count": 2,
   "id": "23298467",
   "metadata": {},
   "outputs": [],
   "source": [
    "import pandas as pd\n",
    "\n",
    "# Sample data\n",
    "data = {\n",
    "    'actor_id': [1, 1, 1, 1, 1, 2, 2],\n",
    "    'director_id': [1, 1, 1, 2, 2, 1, 1],\n",
    "    'timestamp': [0, 1, 2, 3, 4, 5, 6]\n",
    "}\n",
    "\n",
    "# Create a DataFrame\n",
    "actor_director = pd.DataFrame(data)"
   ]
  },
  {
   "cell_type": "code",
   "execution_count": 3,
   "id": "efdae6d4",
   "metadata": {},
   "outputs": [
    {
     "data": {
      "text/html": [
       "<div>\n",
       "<style scoped>\n",
       "    .dataframe tbody tr th:only-of-type {\n",
       "        vertical-align: middle;\n",
       "    }\n",
       "\n",
       "    .dataframe tbody tr th {\n",
       "        vertical-align: top;\n",
       "    }\n",
       "\n",
       "    .dataframe thead th {\n",
       "        text-align: right;\n",
       "    }\n",
       "</style>\n",
       "<table border=\"1\" class=\"dataframe\">\n",
       "  <thead>\n",
       "    <tr style=\"text-align: right;\">\n",
       "      <th></th>\n",
       "      <th>actor_id</th>\n",
       "      <th>director_id</th>\n",
       "      <th>timestamp</th>\n",
       "    </tr>\n",
       "  </thead>\n",
       "  <tbody>\n",
       "    <tr>\n",
       "      <th>0</th>\n",
       "      <td>1</td>\n",
       "      <td>1</td>\n",
       "      <td>0</td>\n",
       "    </tr>\n",
       "    <tr>\n",
       "      <th>1</th>\n",
       "      <td>1</td>\n",
       "      <td>1</td>\n",
       "      <td>1</td>\n",
       "    </tr>\n",
       "    <tr>\n",
       "      <th>2</th>\n",
       "      <td>1</td>\n",
       "      <td>1</td>\n",
       "      <td>2</td>\n",
       "    </tr>\n",
       "    <tr>\n",
       "      <th>3</th>\n",
       "      <td>1</td>\n",
       "      <td>2</td>\n",
       "      <td>3</td>\n",
       "    </tr>\n",
       "    <tr>\n",
       "      <th>4</th>\n",
       "      <td>1</td>\n",
       "      <td>2</td>\n",
       "      <td>4</td>\n",
       "    </tr>\n",
       "    <tr>\n",
       "      <th>5</th>\n",
       "      <td>2</td>\n",
       "      <td>1</td>\n",
       "      <td>5</td>\n",
       "    </tr>\n",
       "    <tr>\n",
       "      <th>6</th>\n",
       "      <td>2</td>\n",
       "      <td>1</td>\n",
       "      <td>6</td>\n",
       "    </tr>\n",
       "  </tbody>\n",
       "</table>\n",
       "</div>"
      ],
      "text/plain": [
       "   actor_id  director_id  timestamp\n",
       "0         1            1          0\n",
       "1         1            1          1\n",
       "2         1            1          2\n",
       "3         1            2          3\n",
       "4         1            2          4\n",
       "5         2            1          5\n",
       "6         2            1          6"
      ]
     },
     "execution_count": 3,
     "metadata": {},
     "output_type": "execute_result"
    }
   ],
   "source": [
    "actor_director"
   ]
  },
  {
   "cell_type": "code",
   "execution_count": 4,
   "id": "855dd921",
   "metadata": {},
   "outputs": [],
   "source": [
    "def actors_and_directors(actor_director: pd.DataFrame) -> pd.DataFrame:\n",
    "    actor_director=actor_director.groupby(['actor_id','director_id'])['timestamp'].agg(['count']).reset_index()\n",
    "    actor_director=actor_director.query('count>=3')\n",
    "    return actor_director[['actor_id','director_id']]"
   ]
  },
  {
   "cell_type": "code",
   "execution_count": 5,
   "id": "321a2ef1",
   "metadata": {},
   "outputs": [
    {
     "data": {
      "text/html": [
       "<div>\n",
       "<style scoped>\n",
       "    .dataframe tbody tr th:only-of-type {\n",
       "        vertical-align: middle;\n",
       "    }\n",
       "\n",
       "    .dataframe tbody tr th {\n",
       "        vertical-align: top;\n",
       "    }\n",
       "\n",
       "    .dataframe thead th {\n",
       "        text-align: right;\n",
       "    }\n",
       "</style>\n",
       "<table border=\"1\" class=\"dataframe\">\n",
       "  <thead>\n",
       "    <tr style=\"text-align: right;\">\n",
       "      <th></th>\n",
       "      <th>actor_id</th>\n",
       "      <th>director_id</th>\n",
       "    </tr>\n",
       "  </thead>\n",
       "  <tbody>\n",
       "    <tr>\n",
       "      <th>0</th>\n",
       "      <td>1</td>\n",
       "      <td>1</td>\n",
       "    </tr>\n",
       "  </tbody>\n",
       "</table>\n",
       "</div>"
      ],
      "text/plain": [
       "   actor_id  director_id\n",
       "0         1            1"
      ]
     },
     "execution_count": 5,
     "metadata": {},
     "output_type": "execute_result"
    }
   ],
   "source": [
    "actors_and_directors(actor_director)"
   ]
  },
  {
   "cell_type": "code",
   "execution_count": null,
   "id": "bb6ad43c",
   "metadata": {},
   "outputs": [],
   "source": []
  }
 ],
 "metadata": {
  "kernelspec": {
   "display_name": "Python 3 (ipykernel)",
   "language": "python",
   "name": "python3"
  },
  "language_info": {
   "codemirror_mode": {
    "name": "ipython",
    "version": 3
   },
   "file_extension": ".py",
   "mimetype": "text/x-python",
   "name": "python",
   "nbconvert_exporter": "python",
   "pygments_lexer": "ipython3",
   "version": "3.9.12"
  }
 },
 "nbformat": 4,
 "nbformat_minor": 5
}
