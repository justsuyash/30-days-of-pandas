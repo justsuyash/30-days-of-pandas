{
 "cells": [
  {
   "cell_type": "markdown",
   "id": "34218ba5",
   "metadata": {},
   "source": [
    "# Daily Leads and Partners\n"
   ]
  },
  {
   "cell_type": "code",
   "execution_count": null,
   "id": "207ad98c",
   "metadata": {},
   "outputs": [],
   "source": [
    "Table: DailySales\n",
    "\n",
    "+-------------+---------+\n",
    "| Column Name | Type    |\n",
    "+-------------+---------+\n",
    "| date_id     | date    |\n",
    "| make_name   | varchar |\n",
    "| lead_id     | int     |\n",
    "| partner_id  | int     |\n",
    "+-------------+---------+\n",
    "There is no primary key (column with unique values) for this table. It may contain duplicates.\n",
    "This table contains the date and the name of the product sold and the IDs of the lead and partner it was sold to.\n",
    "The name consists of only lowercase English letters.\n",
    " \n",
    "\n",
    "For each date_id and make_name, find the number of distinct lead_id's and distinct partner_id's.\n",
    "\n",
    "Return the result table in any order.\n",
    "\n",
    "The result format is in the following example.\n",
    "\n",
    " \n",
    "\n",
    "Example 1:\n",
    "\n",
    "Input: \n",
    "DailySales table:\n",
    "+-----------+-----------+---------+------------+\n",
    "| date_id   | make_name | lead_id | partner_id |\n",
    "+-----------+-----------+---------+------------+\n",
    "| 2020-12-8 | toyota    | 0       | 1          |\n",
    "| 2020-12-8 | toyota    | 1       | 0          |\n",
    "| 2020-12-8 | toyota    | 1       | 2          |\n",
    "| 2020-12-7 | toyota    | 0       | 2          |\n",
    "| 2020-12-7 | toyota    | 0       | 1          |\n",
    "| 2020-12-8 | honda     | 1       | 2          |\n",
    "| 2020-12-8 | honda     | 2       | 1          |\n",
    "| 2020-12-7 | honda     | 0       | 1          |\n",
    "| 2020-12-7 | honda     | 1       | 2          |\n",
    "| 2020-12-7 | honda     | 2       | 1          |\n",
    "+-----------+-----------+---------+------------+\n",
    "Output: \n",
    "+-----------+-----------+--------------+-----------------+\n",
    "| date_id   | make_name | unique_leads | unique_partners |\n",
    "+-----------+-----------+--------------+-----------------+\n",
    "| 2020-12-8 | toyota    | 2            | 3               |\n",
    "| 2020-12-7 | toyota    | 1            | 2               |\n",
    "| 2020-12-8 | honda     | 2            | 2               |\n",
    "| 2020-12-7 | honda     | 3            | 2               |\n",
    "+-----------+-----------+--------------+-----------------+\n",
    "Explanation: \n",
    "For 2020-12-8, toyota gets leads = [0, 1] and partners = [0, 1, 2] while honda gets leads = [1, 2] and partners = [1, 2].\n",
    "For 2020-12-7, toyota gets leads = [0] and partners = [1, 2] while honda gets leads = [0, 1, 2] and partners = [1, 2]."
   ]
  },
  {
   "cell_type": "code",
   "execution_count": 1,
   "id": "2ea82419",
   "metadata": {},
   "outputs": [],
   "source": [
    "import pandas as pd\n",
    "\n",
    "# Sample data\n",
    "data = {\n",
    "    'date_id': ['2020-12-8', '2020-12-8', '2020-12-8', '2020-12-7', '2020-12-7', '2020-12-8', '2020-12-8', '2020-12-7', '2020-12-7', '2020-12-7'],\n",
    "    'make_name': ['toyota', 'toyota', 'toyota', 'toyota', 'toyota', 'honda', 'honda', 'honda', 'honda', 'honda'],\n",
    "    'lead_id': [0, 1, 1, 0, 0, 1, 2, 0, 1, 2],\n",
    "    'partner_id': [1, 0, 2, 2, 1, 2, 1, 1, 2, 1]\n",
    "}\n",
    "\n",
    "# Create a DataFrame from the sample data\n",
    "daily_sales_df = pd.DataFrame(data)\n",
    "\n"
   ]
  },
  {
   "cell_type": "code",
   "execution_count": 2,
   "id": "8db53159",
   "metadata": {},
   "outputs": [],
   "source": [
    "def daily_leads_and_partners(daily_sales: pd.DataFrame) -> pd.DataFrame:\n",
    "    # Group by date_id and make_name, then calculate unique leads and partners\n",
    "    result_df = daily_sales_df.groupby(['date_id', 'make_name']).agg(unique_leads=('lead_id', 'nunique'), unique_partners=('partner_id', 'nunique')).reset_index()\n",
    "    return result_df\n",
    "    "
   ]
  },
  {
   "cell_type": "code",
   "execution_count": 3,
   "id": "c2baf075",
   "metadata": {},
   "outputs": [
    {
     "data": {
      "text/html": [
       "<div>\n",
       "<style scoped>\n",
       "    .dataframe tbody tr th:only-of-type {\n",
       "        vertical-align: middle;\n",
       "    }\n",
       "\n",
       "    .dataframe tbody tr th {\n",
       "        vertical-align: top;\n",
       "    }\n",
       "\n",
       "    .dataframe thead th {\n",
       "        text-align: right;\n",
       "    }\n",
       "</style>\n",
       "<table border=\"1\" class=\"dataframe\">\n",
       "  <thead>\n",
       "    <tr style=\"text-align: right;\">\n",
       "      <th></th>\n",
       "      <th>date_id</th>\n",
       "      <th>make_name</th>\n",
       "      <th>unique_leads</th>\n",
       "      <th>unique_partners</th>\n",
       "    </tr>\n",
       "  </thead>\n",
       "  <tbody>\n",
       "    <tr>\n",
       "      <th>0</th>\n",
       "      <td>2020-12-7</td>\n",
       "      <td>honda</td>\n",
       "      <td>3</td>\n",
       "      <td>2</td>\n",
       "    </tr>\n",
       "    <tr>\n",
       "      <th>1</th>\n",
       "      <td>2020-12-7</td>\n",
       "      <td>toyota</td>\n",
       "      <td>1</td>\n",
       "      <td>2</td>\n",
       "    </tr>\n",
       "    <tr>\n",
       "      <th>2</th>\n",
       "      <td>2020-12-8</td>\n",
       "      <td>honda</td>\n",
       "      <td>2</td>\n",
       "      <td>2</td>\n",
       "    </tr>\n",
       "    <tr>\n",
       "      <th>3</th>\n",
       "      <td>2020-12-8</td>\n",
       "      <td>toyota</td>\n",
       "      <td>2</td>\n",
       "      <td>3</td>\n",
       "    </tr>\n",
       "  </tbody>\n",
       "</table>\n",
       "</div>"
      ],
      "text/plain": [
       "     date_id make_name  unique_leads  unique_partners\n",
       "0  2020-12-7     honda             3                2\n",
       "1  2020-12-7    toyota             1                2\n",
       "2  2020-12-8     honda             2                2\n",
       "3  2020-12-8    toyota             2                3"
      ]
     },
     "execution_count": 3,
     "metadata": {},
     "output_type": "execute_result"
    }
   ],
   "source": [
    "daily_leads_and_partners(daily_sales_df)"
   ]
  },
  {
   "cell_type": "code",
   "execution_count": null,
   "id": "49538fce",
   "metadata": {},
   "outputs": [],
   "source": []
  }
 ],
 "metadata": {
  "kernelspec": {
   "display_name": "Python 3 (ipykernel)",
   "language": "python",
   "name": "python3"
  },
  "language_info": {
   "codemirror_mode": {
    "name": "ipython",
    "version": 3
   },
   "file_extension": ".py",
   "mimetype": "text/x-python",
   "name": "python",
   "nbconvert_exporter": "python",
   "pygments_lexer": "ipython3",
   "version": "3.9.12"
  }
 },
 "nbformat": 4,
 "nbformat_minor": 5
}
